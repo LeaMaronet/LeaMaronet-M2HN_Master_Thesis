{
 "cells": [
  {
   "cell_type": "code",
   "execution_count": 35,
   "metadata": {},
   "outputs": [],
   "source": [
    "import requests\n",
    "from bs4 import BeautifulSoup\n",
    "import urllib.request\n",
    "import re"
   ]
  },
  {
   "cell_type": "code",
   "execution_count": 5,
   "metadata": {},
   "outputs": [],
   "source": [
    "def DLHuntington(url, titre=\"titre\"):\n",
    "    \"\"\"\n",
    "    Permet de télécharger des images sur la base de données DSAL Huntington. \n",
    "    \"\"\"\n",
    "    \n",
    "    def NettoyageLiens():\n",
    "        return [liens.replace(\"thumbs\", \"fullsize\") \n",
    "                for liens in [links.get('src') for links in soup.find_all(\"img\") if len(links.get('src')) > 60]]\n",
    "    \n",
    "    def Téléchargement(y):\n",
    "        for imgURL in y:\n",
    "            num = imgURL.strip(\".jpg\")[-9:]\n",
    "            urllib.request.urlretrieve(imgURL, \"/Users/leamaronet/Desktop/DSAL/\" + titre + '_' + num + \".jpg\")\n",
    "    \n",
    "    page = requests.get(url)\n",
    "    soup = BeautifulSoup(page.content,\"html.parser\")\n",
    "    liens = NettoyageLiens()\n",
    "    Téléchargement(liens)"
   ]
  },
  {
   "cell_type": "code",
   "execution_count": 44,
   "metadata": {},
   "outputs": [],
   "source": [
    "def DLAIIS(url, titre=\"titre\"):\n",
    "    \"\"\"\n",
    "    Permet de télécharger des images sur la base de données DSAL AIIS. \n",
    "    \"\"\"\n",
    "    \n",
    "    def NettoyageLiens():\n",
    "        return [liens.replace(\"small\", \"large\") \n",
    "                for liens in [links.get('src') for links in soup.find_all(\"img\") if len(links.get('src')) > 60]]\n",
    "    \n",
    "    def Téléchargement(y):\n",
    "        for imgURL in y:\n",
    "            num = imgURL.strip(\".jpg\")[-9:]\n",
    "            urllib.request.urlretrieve(imgURL, \"/Users/leamaronet/Desktop/DSAL/\" + titre + '_' + num + \".jpg\")\n",
    "    \n",
    "    page = requests.get(url)\n",
    "    soup = BeautifulSoup(page.content,\"html.parser\")\n",
    "    liens = NettoyageLiens()\n",
    "    Téléchargement(liens)"
   ]
  },
  {
   "cell_type": "code",
   "execution_count": 38,
   "metadata": {},
   "outputs": [],
   "source": [
    "DLHuntington(\"https://dsal.uchicago.edu/cgi-bin/huntington/browse_hub.py?listOfKeyWords=bodh+gaya&browseType=keyword&start_hit=26\", \n",
    "         \"Bodhgaya\")"
   ]
  },
  {
   "cell_type": "code",
   "execution_count": 45,
   "metadata": {},
   "outputs": [],
   "source": [
    "DLAIIS(\"http://dsal.uchicago.edu/cgi-bin/aiis/aiis_query.py?start_hit=1&keyword=bharhut&location=&date=\", \n",
    "       \"Bharhut\")"
   ]
  },
  {
   "cell_type": "code",
   "execution_count": null,
   "metadata": {},
   "outputs": [],
   "source": []
  },
  {
   "cell_type": "code",
   "execution_count": null,
   "metadata": {},
   "outputs": [],
   "source": []
  }
 ],
 "metadata": {
  "kernelspec": {
   "display_name": "Python 3",
   "language": "python",
   "name": "python3"
  },
  "language_info": {
   "codemirror_mode": {
    "name": "ipython",
    "version": 3
   },
   "file_extension": ".py",
   "mimetype": "text/x-python",
   "name": "python",
   "nbconvert_exporter": "python",
   "pygments_lexer": "ipython3",
   "version": "3.8.3"
  }
 },
 "nbformat": 4,
 "nbformat_minor": 4
}
